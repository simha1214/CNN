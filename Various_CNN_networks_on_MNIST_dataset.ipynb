{
  "nbformat": 4,
  "nbformat_minor": 0,
  "metadata": {
    "colab": {
      "name": "Various CNN networks on MNIST dataset.ipynb",
      "version": "0.3.2",
      "provenance": [],
      "collapsed_sections": [],
      "include_colab_link": true
    },
    "kernelspec": {
      "name": "python3",
      "display_name": "Python 3"
    },
    "accelerator": "GPU"
  },
  "cells": [
    {
      "cell_type": "markdown",
      "metadata": {
        "id": "view-in-github",
        "colab_type": "text"
      },
      "source": [
        "<a href=\"https://colab.research.google.com/github/simha1214/CNN/blob/master/Various_CNN_networks_on_MNIST_dataset.ipynb\" target=\"_parent\"><img src=\"https://colab.research.google.com/assets/colab-badge.svg\" alt=\"Open In Colab\"/></a>"
      ]
    },
    {
      "metadata": {
        "id": "4vXLGVihToyY",
        "colab_type": "code",
        "colab": {}
      },
      "cell_type": "code",
      "source": [
        "%matplotlib inline\n",
        "import matplotlib.pyplot as plt\n",
        "import numpy as np\n",
        "import time\n",
        "# https://gist.github.com/greydanus/f6eee59eaf1d90fcb3b534a25362cea4\n",
        "# https://stackoverflow.com/a/14434334\n",
        "# this function is used to update the plots for each epoch and error\n",
        "def plt_dynamic(x, vy, ty, ax, colors=['b']):\n",
        "    ax.plot(x, vy, 'b', label=\"Validation Loss\")\n",
        "    ax.plot(x, ty, 'r', label=\"Train Loss\")\n",
        "    plt.legend()\n",
        "    plt.grid()\n",
        "    fig.canvas.draw()"
      ],
      "execution_count": 0,
      "outputs": []
    },
    {
      "metadata": {
        "id": "sXkb4tvLadgg",
        "colab_type": "text"
      },
      "cell_type": "markdown",
      "source": [
        "## With 3 convolutional layers"
      ]
    },
    {
      "metadata": {
        "id": "xVG3p9LLai-2",
        "colab_type": "text"
      },
      "cell_type": "markdown",
      "source": [
        "### kernel size = (5, 5)"
      ]
    },
    {
      "metadata": {
        "id": "v-yYYxolUyo6",
        "colab_type": "code",
        "colab": {
          "base_uri": "https://localhost:8080/",
          "height": 629
        },
        "outputId": "13d3e474-24e1-4ce8-8472-5038b6c2a2ac"
      },
      "cell_type": "code",
      "source": [
        "#@title Default title text { form-width: \"1%\" }\n",
        "from __future__ import print_function\n",
        "import keras\n",
        "from keras.datasets import mnist\n",
        "from keras.models import Sequential\n",
        "from keras.layers import Dense, Dropout, Flatten\n",
        "from keras.layers import Conv2D, MaxPooling2D\n",
        "from keras import backend as K\n",
        "\n",
        "batch_size = 128\n",
        "num_classes = 10\n",
        "epochs = 15\n",
        "\n",
        "# input image dimensions\n",
        "img_rows, img_cols = 28, 28\n",
        "\n",
        "# the data, split between train and test sets\n",
        "(x_train, y_train), (x_test, y_test) = mnist.load_data()\n",
        "\n",
        "if K.image_data_format() == 'channels_first':\n",
        "    x_train = x_train.reshape(x_train.shape[0], 1, img_rows, img_cols)\n",
        "    x_test = x_test.reshape(x_test.shape[0], 1, img_rows, img_cols)\n",
        "    input_shape = (1, img_rows, img_cols)\n",
        "else:\n",
        "    x_train = x_train.reshape(x_train.shape[0], img_rows, img_cols, 1)\n",
        "    x_test = x_test.reshape(x_test.shape[0], img_rows, img_cols, 1)\n",
        "    input_shape = (img_rows, img_cols, 1)\n",
        "\n",
        "x_train = x_train.astype('float32')\n",
        "x_test = x_test.astype('float32')\n",
        "x_train /= 255\n",
        "x_test /= 255\n",
        "print('x_train shape:', x_train.shape)\n",
        "print(x_train.shape[0], 'train samples')\n",
        "print(x_test.shape[0], 'test samples')\n",
        "\n",
        "# convert class vectors to binary class matrices\n",
        "y_train = keras.utils.to_categorical(y_train, num_classes)\n",
        "y_test = keras.utils.to_categorical(y_test, num_classes)\n",
        "\n",
        "\n",
        "model = Sequential()\n",
        "model.add(Conv2D(32, kernel_size=(5, 5),\n",
        "                 activation='relu',padding='same',strides=(1,1),\n",
        "                 input_shape=input_shape))\n",
        "\n",
        "model.add(Conv2D(64, (5, 5), padding='same',strides=(1,1),activation='relu'))\n",
        "model.add(MaxPooling2D(pool_size=(2, 2),padding='same',strides=(2,2)))\n",
        "model.add(Dropout(0.25))\n",
        "\n",
        "model.add(Conv2D(128, (5, 5), padding='same',strides=(1,1),activation='relu'))\n",
        "model.add(MaxPooling2D(pool_size=(2, 2),padding='same',strides=(2,2)))\n",
        "model.add(Dropout(0.25))\n",
        "\n",
        "model.add(Flatten())\n",
        "model.add(Dense(256, activation='relu'))\n",
        "model.add(Dropout(0.5))\n",
        "model.add(Dense(num_classes, activation='softmax'))\n",
        "\n",
        "model.compile(loss=keras.losses.categorical_crossentropy,\n",
        "              optimizer='adam',\n",
        "              metrics=['accuracy'])\n",
        "\n",
        "history=model.fit(x_train, y_train,\n",
        "          batch_size=batch_size,\n",
        "          epochs=epochs,\n",
        "          verbose=1,\n",
        "          validation_data=(x_test, y_test))\n",
        "score = model.evaluate(x_test, y_test, verbose=0)\n",
        "print('Test loss:', score[0])\n",
        "print('Test accuracy:', score[1])"
      ],
      "execution_count": 9,
      "outputs": [
        {
          "output_type": "stream",
          "text": [
            "x_train shape: (60000, 28, 28, 1)\n",
            "60000 train samples\n",
            "10000 test samples\n",
            "Train on 60000 samples, validate on 10000 samples\n",
            "Epoch 1/15\n",
            "60000/60000 [==============================] - 18s 296us/step - loss: 0.1732 - acc: 0.9460 - val_loss: 0.0390 - val_acc: 0.9871\n",
            "Epoch 2/15\n",
            "60000/60000 [==============================] - 17s 277us/step - loss: 0.0548 - acc: 0.9835 - val_loss: 0.0240 - val_acc: 0.9917\n",
            "Epoch 3/15\n",
            "60000/60000 [==============================] - 17s 278us/step - loss: 0.0412 - acc: 0.9875 - val_loss: 0.0203 - val_acc: 0.9934\n",
            "Epoch 4/15\n",
            "60000/60000 [==============================] - 17s 278us/step - loss: 0.0327 - acc: 0.9905 - val_loss: 0.0243 - val_acc: 0.9919\n",
            "Epoch 5/15\n",
            "60000/60000 [==============================] - 17s 277us/step - loss: 0.0291 - acc: 0.9907 - val_loss: 0.0184 - val_acc: 0.9946\n",
            "Epoch 6/15\n",
            "60000/60000 [==============================] - 17s 280us/step - loss: 0.0241 - acc: 0.9927 - val_loss: 0.0239 - val_acc: 0.9928\n",
            "Epoch 7/15\n",
            "60000/60000 [==============================] - 17s 278us/step - loss: 0.0203 - acc: 0.9938 - val_loss: 0.0247 - val_acc: 0.9922\n",
            "Epoch 8/15\n",
            "60000/60000 [==============================] - 17s 278us/step - loss: 0.0197 - acc: 0.9939 - val_loss: 0.0192 - val_acc: 0.9945\n",
            "Epoch 9/15\n",
            "60000/60000 [==============================] - 17s 279us/step - loss: 0.0176 - acc: 0.9944 - val_loss: 0.0195 - val_acc: 0.9950\n",
            "Epoch 10/15\n",
            "60000/60000 [==============================] - 17s 279us/step - loss: 0.0181 - acc: 0.9938 - val_loss: 0.0194 - val_acc: 0.9942\n",
            "Epoch 11/15\n",
            "60000/60000 [==============================] - 17s 279us/step - loss: 0.0143 - acc: 0.9956 - val_loss: 0.0188 - val_acc: 0.9947\n",
            "Epoch 12/15\n",
            "60000/60000 [==============================] - 17s 278us/step - loss: 0.0136 - acc: 0.9957 - val_loss: 0.0132 - val_acc: 0.9959\n",
            "Epoch 13/15\n",
            "60000/60000 [==============================] - 17s 279us/step - loss: 0.0124 - acc: 0.9963 - val_loss: 0.0191 - val_acc: 0.9947\n",
            "Epoch 14/15\n",
            "60000/60000 [==============================] - 17s 277us/step - loss: 0.0140 - acc: 0.9955 - val_loss: 0.0207 - val_acc: 0.9945\n",
            "Epoch 15/15\n",
            "60000/60000 [==============================] - 17s 278us/step - loss: 0.0132 - acc: 0.9959 - val_loss: 0.0180 - val_acc: 0.9952\n",
            "Test loss: 0.018026969291780597\n",
            "Test accuracy: 0.9952\n"
          ],
          "name": "stdout"
        }
      ]
    },
    {
      "metadata": {
        "id": "mrW8J32YUUHB",
        "colab_type": "code",
        "colab": {
          "base_uri": "https://localhost:8080/",
          "height": 282
        },
        "outputId": "0e89a076-0b81-4d48-9d1b-719d6506e34b"
      },
      "cell_type": "code",
      "source": [
        "fig,ax = plt.subplots(1,1)\n",
        "ax.set_xlabel('epoch') ; ax.set_ylabel('Categorical Crossentropy Loss')\n",
        "\n",
        "# list of epoch numbers\n",
        "x = list(range(1,epochs+1))\n",
        "\n",
        "# print(history.history.keys())\n",
        "# dict_keys(['val_loss', 'val_acc', 'loss', 'acc'])\n",
        "# history = model_drop.fit(X_train, Y_train, batch_size=batch_size, epochs=nb_epoch, verbose=1, validation_data=(X_test, Y_test))\n",
        "\n",
        "# we will get val_loss and val_acc only when you pass the paramter validation_data\n",
        "# val_loss : validation loss\n",
        "# val_acc : validation accuracy\n",
        "\n",
        "# loss : training loss\n",
        "# acc : train accuracy\n",
        "# for each key in histrory.histrory we will have a list of length equal to number of epochs\n",
        "\n",
        "\n",
        "vy = history.history['val_loss']\n",
        "ty = history.history['loss']\n",
        "plt_dynamic(x, vy, ty, ax)"
      ],
      "execution_count": 10,
      "outputs": [
        {
          "output_type": "display_data",
          "data": {
            "image/png": "[encoded data removed]",
            "text/plain": [
              "<Figure size 432x288 with 1 Axes>"
            ]
          },
          "metadata": {
            "tags": []
          }
        }
      ]
    },
    {
      "metadata": {
        "id": "iPSsu1YnaYwl",
        "colab_type": "text"
      },
      "cell_type": "markdown",
      "source": [
        "### kernel size = (3, 3)"
      ]
    },
    {
      "metadata": {
        "id": "L1hxyxWzVmdE",
        "colab_type": "code",
        "colab": {
          "base_uri": "https://localhost:8080/",
          "height": 51
        },
        "outputId": "f10a5fdc-29fe-4b5b-e9f6-440bff243f4b"
      },
      "cell_type": "code",
      "source": [
        "\n",
        "\n",
        "model = Sequential()\n",
        "model.add(Conv2D(32, kernel_size=(3, 3),\n",
        "                 activation='relu',padding='same',strides=(1,1),\n",
        "                 input_shape=input_shape))\n",
        "\n",
        "model.add(Conv2D(64, (3, 3), padding='same',strides=(1,1),activation='relu'))\n",
        "model.add(MaxPooling2D(pool_size=(2, 2),padding='same',strides=(2,2)))\n",
        "model.add(Dropout(0.25))\n",
        "\n",
        "model.add(Conv2D(128, (3, 3), padding='same',strides=(1,1),activation='relu'))\n",
        "model.add(MaxPooling2D(pool_size=(2, 2),padding='same',strides=(2,2)))\n",
        "model.add(Dropout(0.25))\n",
        "\n",
        "model.add(Flatten())\n",
        "model.add(Dense(256, activation='relu'))\n",
        "model.add(Dropout(0.5))\n",
        "model.add(Dense(num_classes, activation='softmax'))\n",
        "\n",
        "model.compile(loss=keras.losses.categorical_crossentropy,\n",
        "              optimizer='adam',\n",
        "              metrics=['accuracy'])\n",
        "\n",
        "history=model.fit(x_train, y_train,\n",
        "          batch_size=batch_size,\n",
        "          epochs=epochs,\n",
        "          verbose=0,\n",
        "          validation_data=(x_test, y_test))\n",
        "score = model.evaluate(x_test, y_test, verbose=0)\n",
        "print('Test loss:', score[0])\n",
        "print('Test accuracy:', score[1])"
      ],
      "execution_count": 11,
      "outputs": [
        {
          "output_type": "stream",
          "text": [
            "Test loss: 0.01892112844236176\n",
            "Test accuracy: 0.9944\n"
          ],
          "name": "stdout"
        }
      ]
    },
    {
      "metadata": {
        "id": "AUfHdh70YvQ1",
        "colab_type": "code",
        "colab": {
          "base_uri": "https://localhost:8080/",
          "height": 279
        },
        "outputId": "981a2c61-aa4a-4834-c779-f685dfb2ece5"
      },
      "cell_type": "code",
      "source": [
        "fig,ax = plt.subplots(1,1)\n",
        "ax.set_xlabel('epoch') ; ax.set_ylabel('Categorical Crossentropy Loss')\n",
        "\n",
        "# list of epoch numbers\n",
        "x = list(range(1,epochs+1))\n",
        "\n",
        "vy = history.history['val_loss']\n",
        "ty = history.history['loss']\n",
        "plt_dynamic(x, vy, ty, ax)"
      ],
      "execution_count": 12,
      "outputs": [
        {
          "output_type": "display_data",
          "data": {
            "image/png": "[encoded data removed]",
            "text/plain": [
              "<Figure size 432x288 with 1 Axes>"
            ]
          },
          "metadata": {
            "tags": []
          }
        }
      ]
    },
    {
      "metadata": {
        "id": "dh16ubghaUFK",
        "colab_type": "text"
      },
      "cell_type": "markdown",
      "source": [
        "### Kernel size = (2, 2)"
      ]
    },
    {
      "metadata": {
        "id": "dxvSFDYSY2k5",
        "colab_type": "code",
        "colab": {
          "base_uri": "https://localhost:8080/",
          "height": 51
        },
        "outputId": "f6272ad3-e698-4a05-8638-9ac15b5a4852"
      },
      "cell_type": "code",
      "source": [
        "\n",
        "\n",
        "model = Sequential()\n",
        "model.add(Conv2D(32, kernel_size=(2, 2),\n",
        "                 activation='relu',padding='same',strides=(1,1),\n",
        "                 input_shape=input_shape))\n",
        "\n",
        "model.add(Conv2D(64, (2, 2), padding='same',strides=(1,1),activation='relu'))\n",
        "model.add(MaxPooling2D(pool_size=(2, 2),padding='same',strides=(2,2)))\n",
        "model.add(Dropout(0.25))\n",
        "\n",
        "model.add(Conv2D(128, (2, 2), padding='same',strides=(1,1),activation='relu'))\n",
        "model.add(MaxPooling2D(pool_size=(2, 2),padding='same',strides=(2,2)))\n",
        "model.add(Dropout(0.25))\n",
        "\n",
        "model.add(Flatten())\n",
        "model.add(Dense(256, activation='relu'))\n",
        "model.add(Dropout(0.5))\n",
        "model.add(Dense(num_classes, activation='softmax'))\n",
        "\n",
        "model.compile(loss=keras.losses.categorical_crossentropy,\n",
        "              optimizer='adam',\n",
        "              metrics=['accuracy'])\n",
        "\n",
        "history=model.fit(x_train, y_train,\n",
        "          batch_size=batch_size,\n",
        "          epochs=epochs,\n",
        "          verbose=0,\n",
        "          validation_data=(x_test, y_test))\n",
        "score = model.evaluate(x_test, y_test, verbose=0)\n",
        "print('Test loss:', score[0])\n",
        "print('Test accuracy:', score[1])"
      ],
      "execution_count": 13,
      "outputs": [
        {
          "output_type": "stream",
          "text": [
            "Test loss: 0.02292553411611525\n",
            "Test accuracy: 0.993\n"
          ],
          "name": "stdout"
        }
      ]
    },
    {
      "metadata": {
        "id": "KfQHZDffZfhs",
        "colab_type": "code",
        "colab": {
          "base_uri": "https://localhost:8080/",
          "height": 279
        },
        "outputId": "f0e86a6e-0041-4e96-aafa-13e6bccf60fb"
      },
      "cell_type": "code",
      "source": [
        "fig,ax = plt.subplots(1,1)\n",
        "ax.set_xlabel('epoch') ; ax.set_ylabel('Categorical Crossentropy Loss')\n",
        "\n",
        "# list of epoch numbers\n",
        "x = list(range(1,epochs+1))\n",
        "\n",
        "vy = history.history['val_loss']\n",
        "ty = history.history['loss']\n",
        "plt_dynamic(x, vy, ty, ax)"
      ],
      "execution_count": 14,
      "outputs": [
        {
          "output_type": "display_data",
          "data": {
            "image/png": "[encoded data removed]",
            "text/plain": [
              "<Figure size 432x288 with 1 Axes>"
            ]
          },
          "metadata": {
            "tags": []
          }
        }
      ]
    },
    {
      "metadata": {
        "id": "vVFuZdGQZh-G",
        "colab_type": "text"
      },
      "cell_type": "markdown",
      "source": [
        "##with 5 convolutional layers"
      ]
    },
    {
      "metadata": {
        "id": "LUAdWFXTZ_l7",
        "colab_type": "text"
      },
      "cell_type": "markdown",
      "source": [
        "###Kernel size = (5, 5)"
      ]
    },
    {
      "metadata": {
        "id": "BqnQXMCzZg9W",
        "colab_type": "code",
        "colab": {
          "base_uri": "https://localhost:8080/",
          "height": 51
        },
        "outputId": "961dff02-7a2b-44da-b851-63d7f7486bc7"
      },
      "cell_type": "code",
      "source": [
        "model = Sequential()\n",
        "model.add(Conv2D(32, kernel_size=(5, 5),\n",
        "                 activation='relu',padding='same',strides=(1,1),\n",
        "                 input_shape=input_shape))\n",
        "\n",
        "model.add(Conv2D(64, (5, 5), padding='same',strides=(1,1),activation='relu'))\n",
        "model.add(MaxPooling2D(pool_size=(2, 2),padding='same',strides=(2,2)))\n",
        "model.add(Dropout(0.25))\n",
        "\n",
        "model.add(Conv2D(128, (5, 5), padding='same',strides=(1,1),activation='relu'))\n",
        "model.add(MaxPooling2D(pool_size=(2, 2),padding='same',strides=(2,2)))\n",
        "model.add(Dropout(0.25))\n",
        "\n",
        "model.add(Conv2D(183, (5, 5), padding='same',strides=(1,1),activation='relu'))\n",
        "model.add(MaxPooling2D(pool_size=(2, 2),padding='same',strides=(2,2)))\n",
        "model.add(Dropout(0.25))\n",
        "\n",
        "model.add(Conv2D(256, (5, 5), padding='same',strides=(1,1),activation='relu'))\n",
        "model.add(MaxPooling2D(pool_size=(2, 2),padding='same',strides=(2,2)))\n",
        "model.add(Dropout(0.25))\n",
        "\n",
        "model.add(Flatten())\n",
        "model.add(Dense(512, activation='relu'))\n",
        "model.add(Dropout(0.5))\n",
        "model.add(Dense(num_classes, activation='softmax'))\n",
        "\n",
        "model.compile(loss=keras.losses.categorical_crossentropy,\n",
        "              optimizer='adam',\n",
        "              metrics=['accuracy'])\n",
        "\n",
        "history=model.fit(x_train, y_train,\n",
        "          batch_size=batch_size,\n",
        "          epochs=epochs,\n",
        "          verbose=0,\n",
        "          validation_data=(x_test, y_test))\n",
        "score = model.evaluate(x_test, y_test, verbose=0)\n",
        "print('Test loss:', score[0])\n",
        "print('Test accuracy:', score[1])"
      ],
      "execution_count": 15,
      "outputs": [
        {
          "output_type": "stream",
          "text": [
            "Test loss: 0.023199425636067916\n",
            "Test accuracy: 0.9934\n"
          ],
          "name": "stdout"
        }
      ]
    },
    {
      "metadata": {
        "id": "ggQwu2_kb_JK",
        "colab_type": "code",
        "colab": {
          "base_uri": "https://localhost:8080/",
          "height": 281
        },
        "outputId": "ce3fce1a-a07b-4744-dc1c-37317734cb61"
      },
      "cell_type": "code",
      "source": [
        "fig,ax = plt.subplots(1,1)\n",
        "ax.set_xlabel('epoch') ; ax.set_ylabel('Categorical Crossentropy Loss')\n",
        "\n",
        "# list of epoch numbers\n",
        "x = list(range(1,epochs+1))\n",
        "\n",
        "vy = history.history['val_loss']\n",
        "ty = history.history['loss']\n",
        "plt_dynamic(x, vy, ty, ax)"
      ],
      "execution_count": 16,
      "outputs": [
        {
          "output_type": "display_data",
          "data": {
            "image/png": "[encoded data removed]",
            "text/plain": [
              "<Figure size 432x288 with 1 Axes>"
            ]
          },
          "metadata": {
            "tags": []
          }
        }
      ]
    },
    {
      "metadata": {
        "id": "mnuo7E1OcwxD",
        "colab_type": "text"
      },
      "cell_type": "markdown",
      "source": [
        "### kernel size = (3, 3)"
      ]
    },
    {
      "metadata": {
        "id": "EXIVgGVTcCQO",
        "colab_type": "code",
        "colab": {
          "base_uri": "https://localhost:8080/",
          "height": 51
        },
        "outputId": "05e31bae-9a31-4bd1-b1be-bc67e8f086b7"
      },
      "cell_type": "code",
      "source": [
        "model = Sequential()\n",
        "model.add(Conv2D(32, kernel_size=(3, 3),\n",
        "                 activation='relu',padding='same',strides=(1,1),\n",
        "                 input_shape=input_shape))\n",
        "\n",
        "model.add(Conv2D(64, (3, 3), padding='same',strides=(1,1),activation='relu'))\n",
        "model.add(MaxPooling2D(pool_size=(2, 2),padding='same',strides=(2,2)))\n",
        "model.add(Dropout(0.25))\n",
        "\n",
        "model.add(Conv2D(128, (3, 3), padding='same',strides=(1,1),activation='relu'))\n",
        "model.add(MaxPooling2D(pool_size=(2, 2),padding='same',strides=(2,2)))\n",
        "model.add(Dropout(0.25))\n",
        "\n",
        "model.add(Conv2D(183, (3, 3), padding='same',strides=(1,1),activation='relu'))\n",
        "model.add(MaxPooling2D(pool_size=(2, 2),padding='same',strides=(2,2)))\n",
        "model.add(Dropout(0.25))\n",
        "\n",
        "model.add(Conv2D(256, (3, 3), padding='same',strides=(1,1),activation='relu'))\n",
        "model.add(MaxPooling2D(pool_size=(2, 2),padding='same',strides=(2,2)))\n",
        "model.add(Dropout(0.25))\n",
        "\n",
        "model.add(Flatten())\n",
        "model.add(Dense(512, activation='relu'))\n",
        "model.add(Dropout(0.5))\n",
        "model.add(Dense(num_classes, activation='softmax'))\n",
        "\n",
        "model.compile(loss=keras.losses.categorical_crossentropy,optimizer='adam',metrics=['accuracy'])\n",
        "\n",
        "history=model.fit(x_train, y_train,batch_size=batch_size,epochs=epochs,verbose=0,validation_data=(x_test, y_test))\n",
        "score = model.evaluate(x_test, y_test, verbose=0)\n",
        "print('Test loss:', score[0])\n",
        "print('Test accuracy:', score[1])"
      ],
      "execution_count": 17,
      "outputs": [
        {
          "output_type": "stream",
          "text": [
            "Test loss: 0.018592901948341616\n",
            "Test accuracy: 0.9954\n"
          ],
          "name": "stdout"
        }
      ]
    },
    {
      "metadata": {
        "id": "XQZl5qo1cvZR",
        "colab_type": "code",
        "colab": {
          "base_uri": "https://localhost:8080/",
          "height": 279
        },
        "outputId": "191f2478-4baf-4494-c7f2-8e4d3048a69c"
      },
      "cell_type": "code",
      "source": [
        "fig,ax = plt.subplots(1,1)\n",
        "ax.set_xlabel('epoch') ; ax.set_ylabel('Categorical Crossentropy Loss')\n",
        "\n",
        "# list of epoch numbers\n",
        "x = list(range(1,epochs+1))\n",
        "\n",
        "vy = history.history['val_loss']\n",
        "ty = history.history['loss']\n",
        "plt_dynamic(x, vy, ty, ax)"
      ],
      "execution_count": 18,
      "outputs": [
        {
          "output_type": "display_data",
          "data": {
            "image/png": "[encoded data removed]",
            "text/plain": [
              "<Figure size 432x288 with 1 Axes>"
            ]
          },
          "metadata": {
            "tags": []
          }
        }
      ]
    },
    {
      "metadata": {
        "id": "21LN4qUKc54x",
        "colab_type": "text"
      },
      "cell_type": "markdown",
      "source": [
        "### Kernel size = (2, 2)"
      ]
    },
    {
      "metadata": {
        "id": "EBHuHKrJdAAd",
        "colab_type": "code",
        "colab": {
          "base_uri": "https://localhost:8080/",
          "height": 51
        },
        "outputId": "7f7afd3e-ea00-4049-ac63-ae0a0e3bed5e"
      },
      "cell_type": "code",
      "source": [
        "model = Sequential()\n",
        "model.add(Conv2D(32, kernel_size=(2, 2),\n",
        "                 activation='relu',padding='same',strides=(1,1),\n",
        "                 input_shape=input_shape))\n",
        "\n",
        "model.add(Conv2D(64, (2, 2), padding='same',strides=(1,1),activation='relu'))\n",
        "model.add(MaxPooling2D(pool_size=(2, 2),padding='same',strides=(2,2)))\n",
        "model.add(Dropout(0.25))\n",
        "\n",
        "model.add(Conv2D(128, (2, 2), padding='same',strides=(1,1),activation='relu'))\n",
        "model.add(MaxPooling2D(pool_size=(2, 2),padding='same',strides=(2,2)))\n",
        "model.add(Dropout(0.25))\n",
        "\n",
        "model.add(Conv2D(183, (2, 2), padding='same',strides=(1,1),activation='relu'))\n",
        "model.add(MaxPooling2D(pool_size=(2, 2),padding='same',strides=(2,2)))\n",
        "model.add(Dropout(0.25))\n",
        "\n",
        "model.add(Conv2D(256, (2, 2), padding='same',strides=(1,1),activation='relu'))\n",
        "model.add(MaxPooling2D(pool_size=(2, 2),padding='same',strides=(2,2)))\n",
        "model.add(Dropout(0.25))\n",
        "\n",
        "model.add(Flatten())\n",
        "model.add(Dense(512, activation='relu'))\n",
        "model.add(Dropout(0.5))\n",
        "model.add(Dense(num_classes, activation='softmax'))\n",
        "\n",
        "model.compile(loss=keras.losses.categorical_crossentropy,optimizer='adam',metrics=['accuracy'])\n",
        "\n",
        "history=model.fit(x_train, y_train,batch_size=batch_size,epochs=epochs,verbose=0,validation_data=(x_test, y_test))\n",
        "score = model.evaluate(x_test, y_test, verbose=0)\n",
        "print('Test loss:', score[0])\n",
        "print('Test accuracy:', score[1])"
      ],
      "execution_count": 19,
      "outputs": [
        {
          "output_type": "stream",
          "text": [
            "Test loss: 0.018252224323329118\n",
            "Test accuracy: 0.9944\n"
          ],
          "name": "stdout"
        }
      ]
    },
    {
      "metadata": {
        "id": "05bfWbTKdAk_",
        "colab_type": "code",
        "colab": {
          "base_uri": "https://localhost:8080/",
          "height": 279
        },
        "outputId": "3b9703a9-0d0e-419b-8640-a2e81d437708"
      },
      "cell_type": "code",
      "source": [
        "fig,ax = plt.subplots(1,1)\n",
        "ax.set_xlabel('epoch') ; ax.set_ylabel('Categorical Crossentropy Loss')\n",
        "\n",
        "# list of epoch numbers\n",
        "x = list(range(1,epochs+1))\n",
        "\n",
        "vy = history.history['val_loss']\n",
        "ty = history.history['loss']\n",
        "plt_dynamic(x, vy, ty, ax)"
      ],
      "execution_count": 20,
      "outputs": [
        {
          "output_type": "display_data",
          "data": {
            "image/png": "[encoded data removed]",
            "text/plain": [
              "<Figure size 432x288 with 1 Axes>"
            ]
          },
          "metadata": {
            "tags": []
          }
        }
      ]
    },
    {
      "metadata": {
        "id": "rFnt1glTfcOx",
        "colab_type": "text"
      },
      "cell_type": "markdown",
      "source": [
        "## With 7 Convolutional layers"
      ]
    },
    {
      "metadata": {
        "id": "NVVLcQUrfhdn",
        "colab_type": "text"
      },
      "cell_type": "markdown",
      "source": [
        "### kernel size = (5, 5)"
      ]
    },
    {
      "metadata": {
        "id": "h8FsNGe2fuHR",
        "colab_type": "code",
        "colab": {
          "base_uri": "https://localhost:8080/",
          "height": 51
        },
        "outputId": "aea1dd7e-7132-4640-db4e-954f9cd42159"
      },
      "cell_type": "code",
      "source": [
        "model = Sequential()\n",
        "model.add(Conv2D(32, kernel_size=(5, 5),\n",
        "                 activation='relu',padding='same',strides=(1,1),\n",
        "                 input_shape=input_shape))\n",
        "\n",
        "model.add(Conv2D(64, (5, 5), padding='same',strides=(1,1),activation='relu'))\n",
        "model.add(MaxPooling2D(pool_size=(2, 2),padding='same',strides=(2,2)))\n",
        "model.add(Dropout(0.5))\n",
        "\n",
        "model.add(Conv2D(128, (5, 5), padding='same',strides=(1,1),activation='relu'))\n",
        "model.add(MaxPooling2D(pool_size=(2, 2),padding='same',strides=(2,2)))\n",
        "model.add(Dropout(0.3))\n",
        "\n",
        "model.add(Conv2D(183, (5, 5), padding='same',strides=(1,1),activation='relu'))\n",
        "model.add(MaxPooling2D(pool_size=(2, 2),padding='same',strides=(2,2)))\n",
        "model.add(Dropout(0.5))\n",
        "\n",
        "model.add(Conv2D(256, (5, 5), padding='same',strides=(1,1),activation='relu'))\n",
        "model.add(MaxPooling2D(pool_size=(2, 2),padding='same',strides=(2,2)))\n",
        "model.add(Dropout(0.25))\n",
        "\n",
        "model.add(Conv2D(356, (5, 5), padding='same',strides=(1,1),activation='relu'))\n",
        "model.add(MaxPooling2D(pool_size=(2, 2),padding='same',strides=(2,2)))\n",
        "model.add(Dropout(0.3))\n",
        "\n",
        "model.add(Conv2D(425, (5, 5), padding='same',strides=(1,1),activation='relu'))\n",
        "model.add(MaxPooling2D(pool_size=(2, 2),padding='same',strides=(2,2)))\n",
        "model.add(Dropout(0.3))\n",
        "\n",
        "model.add(Flatten())\n",
        "model.add(Dense(512, activation='relu'))\n",
        "model.add(Dropout(0.5))\n",
        "model.add(Dense(num_classes, activation='softmax'))\n",
        "\n",
        "model.compile(loss=keras.losses.categorical_crossentropy,optimizer='adam',metrics=['accuracy'])\n",
        "\n",
        "history=model.fit(x_train, y_train,batch_size=batch_size,epochs=epochs,verbose=0,validation_data=(x_test, y_test))\n",
        "score = model.evaluate(x_test, y_test, verbose=0)\n",
        "print('Test loss:', score[0])\n",
        "print('Test accuracy:', score[1])"
      ],
      "execution_count": 21,
      "outputs": [
        {
          "output_type": "stream",
          "text": [
            "Test loss: 0.027654921674951812\n",
            "Test accuracy: 0.9939\n"
          ],
          "name": "stdout"
        }
      ]
    },
    {
      "metadata": {
        "id": "51ch5RObgJ8F",
        "colab_type": "code",
        "colab": {
          "base_uri": "https://localhost:8080/",
          "height": 279
        },
        "outputId": "3b0f41f4-2c15-43e1-a979-3a54c2a5f04c"
      },
      "cell_type": "code",
      "source": [
        "fig,ax = plt.subplots(1,1)\n",
        "ax.set_xlabel('epoch') ; ax.set_ylabel('Categorical Crossentropy Loss')\n",
        "vy = history.history['val_loss']\n",
        "ty = history.history['loss']\n",
        "plt_dynamic(x, vy, ty, ax)"
      ],
      "execution_count": 22,
      "outputs": [
        {
          "output_type": "display_data",
          "data": {
            "image/png": "[encoded data removed]",
            "text/plain": [
              "<Figure size 432x288 with 1 Axes>"
            ]
          },
          "metadata": {
            "tags": []
          }
        }
      ]
    },
    {
      "metadata": {
        "id": "T6R7-Y-ngOn3",
        "colab_type": "text"
      },
      "cell_type": "markdown",
      "source": [
        "### kernel size = (3, 3)"
      ]
    },
    {
      "metadata": {
        "id": "2RnDfleLmam2",
        "colab_type": "code",
        "colab": {
          "base_uri": "https://localhost:8080/",
          "height": 51
        },
        "outputId": "d2d32d9f-f59f-4e3d-dd4d-5a3b3ab22ce1"
      },
      "cell_type": "code",
      "source": [
        "model = Sequential()\n",
        "model.add(Conv2D(32, kernel_size=(3, 3),\n",
        "                 activation='relu',padding='same',strides=(1,1),\n",
        "                 input_shape=input_shape))\n",
        "\n",
        "model.add(Conv2D(64, (3, 3), padding='same',strides=(1,1),activation='relu'))\n",
        "model.add(MaxPooling2D(pool_size=(2, 2),padding='same',strides=(2,2)))\n",
        "model.add(Dropout(0.5))\n",
        "\n",
        "model.add(Conv2D(128, (3, 3), padding='same',strides=(1,1),activation='relu'))\n",
        "model.add(MaxPooling2D(pool_size=(2, 2),padding='same',strides=(2,2)))\n",
        "model.add(Dropout(0.3))\n",
        "\n",
        "model.add(Conv2D(183, (3, 3), padding='same',strides=(1,1),activation='relu'))\n",
        "model.add(MaxPooling2D(pool_size=(2, 2),padding='same',strides=(2,2)))\n",
        "model.add(Dropout(0.5))\n",
        "\n",
        "model.add(Conv2D(256, (3, 3), padding='same',strides=(1,1),activation='relu'))\n",
        "model.add(MaxPooling2D(pool_size=(2, 2),padding='same',strides=(2,2)))\n",
        "model.add(Dropout(0.25))\n",
        "\n",
        "model.add(Conv2D(356, (3, 3), padding='same',strides=(1,1),activation='relu'))\n",
        "model.add(MaxPooling2D(pool_size=(2, 2),padding='same',strides=(2,2)))\n",
        "model.add(Dropout(0.3))\n",
        "\n",
        "model.add(Conv2D(425, (3, 3), padding='same',strides=(1,1),activation='relu'))\n",
        "model.add(MaxPooling2D(pool_size=(2, 2),padding='same',strides=(2,2)))\n",
        "model.add(Dropout(0.3))\n",
        "\n",
        "model.add(Flatten())\n",
        "model.add(Dense(512, activation='relu'))\n",
        "model.add(Dropout(0.5))\n",
        "model.add(Dense(num_classes, activation='softmax'))\n",
        "\n",
        "model.compile(loss=keras.losses.categorical_crossentropy,optimizer='adam',metrics=['accuracy'])\n",
        "\n",
        "history=model.fit(x_train, y_train,batch_size=batch_size,epochs=epochs,verbose=0,validation_data=(x_test, y_test))\n",
        "score = model.evaluate(x_test, y_test, verbose=0)\n",
        "print('Test loss:', score[0])\n",
        "print('Test accuracy:', score[1])"
      ],
      "execution_count": 23,
      "outputs": [
        {
          "output_type": "stream",
          "text": [
            "Test loss: 0.02103127124365437\n",
            "Test accuracy: 0.9943\n"
          ],
          "name": "stdout"
        }
      ]
    },
    {
      "metadata": {
        "id": "yiGwyrFnmcBu",
        "colab_type": "code",
        "colab": {
          "base_uri": "https://localhost:8080/",
          "height": 279
        },
        "outputId": "de8d5053-0173-4bb7-adc2-5105783ca045"
      },
      "cell_type": "code",
      "source": [
        "fig,ax = plt.subplots(1,1)\n",
        "ax.set_xlabel('epoch') ; ax.set_ylabel('Categorical Crossentropy Loss')\n",
        "vy = history.history['val_loss']\n",
        "ty = history.history['loss']\n",
        "plt_dynamic(x, vy, ty, ax)"
      ],
      "execution_count": 24,
      "outputs": [
        {
          "output_type": "display_data",
          "data": {
            "image/png": "[encoded data removed]",
            "text/plain": [
              "<Figure size 432x288 with 1 Axes>"
            ]
          },
          "metadata": {
            "tags": []
          }
        }
      ]
    },
    {
      "metadata": {
        "id": "ljx4KizgnM_M",
        "colab_type": "text"
      },
      "cell_type": "markdown",
      "source": [
        "###Kernel size = (2, 2)"
      ]
    },
    {
      "metadata": {
        "id": "Oq9JIBr1nQZd",
        "colab_type": "code",
        "colab": {
          "base_uri": "https://localhost:8080/",
          "height": 51
        },
        "outputId": "4cd4c2f3-3913-4825-9b16-5407868506e5"
      },
      "cell_type": "code",
      "source": [
        "model = Sequential()\n",
        "model.add(Conv2D(32, kernel_size=(2, 2),\n",
        "                 activation='relu',padding='same',strides=(1,1),\n",
        "                 input_shape=input_shape))\n",
        "\n",
        "model.add(Conv2D(64, (2, 2), padding='same',strides=(1,1),activation='relu'))\n",
        "model.add(MaxPooling2D(pool_size=(2, 2),padding='same',strides=(2,2)))\n",
        "model.add(Dropout(0.5))\n",
        "\n",
        "model.add(Conv2D(128, (2, 2), padding='same',strides=(1,1),activation='relu'))\n",
        "model.add(MaxPooling2D(pool_size=(2, 2),padding='same',strides=(2,2)))\n",
        "model.add(Dropout(0.3))\n",
        "\n",
        "model.add(Conv2D(183, (2, 2), padding='same',strides=(1,1),activation='relu'))\n",
        "model.add(MaxPooling2D(pool_size=(2, 2),padding='same',strides=(2,2)))\n",
        "model.add(Dropout(0.5))\n",
        "\n",
        "model.add(Conv2D(256, (2, 2), padding='same',strides=(1,1),activation='relu'))\n",
        "model.add(MaxPooling2D(pool_size=(2, 2),padding='same',strides=(2,2)))\n",
        "model.add(Dropout(0.25))\n",
        "\n",
        "model.add(Conv2D(356, (2, 2), padding='same',strides=(1,1),activation='relu'))\n",
        "model.add(MaxPooling2D(pool_size=(2, 2),padding='same',strides=(2,2)))\n",
        "model.add(Dropout(0.3))\n",
        "\n",
        "model.add(Conv2D(425, (2, 2), padding='same',strides=(1,1),activation='relu'))\n",
        "model.add(MaxPooling2D(pool_size=(2, 2),padding='same',strides=(2,2)))\n",
        "model.add(Dropout(0.3))\n",
        "\n",
        "model.add(Flatten())\n",
        "model.add(Dense(512, activation='relu'))\n",
        "model.add(Dropout(0.5))\n",
        "model.add(Dense(num_classes, activation='softmax'))\n",
        "\n",
        "model.compile(loss=keras.losses.categorical_crossentropy,optimizer='adam',metrics=['accuracy'])\n",
        "\n",
        "history=model.fit(x_train, y_train,batch_size=batch_size,epochs=epochs,verbose=0,validation_data=(x_test, y_test))\n",
        "score = model.evaluate(x_test, y_test, verbose=0)\n",
        "print('Test loss:', score[0])\n",
        "print('Test accuracy:', score[1])"
      ],
      "execution_count": 25,
      "outputs": [
        {
          "output_type": "stream",
          "text": [
            "Test loss: 0.022844080310964635\n",
            "Test accuracy: 0.9922\n"
          ],
          "name": "stdout"
        }
      ]
    },
    {
      "metadata": {
        "id": "xokbs2a2nU-X",
        "colab_type": "code",
        "colab": {
          "base_uri": "https://localhost:8080/",
          "height": 279
        },
        "outputId": "685c55a1-85a3-444a-8eb1-21b7f250b336"
      },
      "cell_type": "code",
      "source": [
        "fig,ax = plt.subplots(1,1)\n",
        "ax.set_xlabel('epoch') ; ax.set_ylabel('Categorical Crossentropy Loss')\n",
        "vy = history.history['val_loss']\n",
        "ty = history.history['loss']\n",
        "plt_dynamic(x, vy, ty, ax)"
      ],
      "execution_count": 26,
      "outputs": [
        {
          "output_type": "display_data",
          "data": {
            "image/png": "[encoded data removed]",
            "text/plain": [
              "<Figure size 432x288 with 1 Axes>"
            ]
          },
          "metadata": {
            "tags": []
          }
        }
      ]
    },
    {
      "metadata": {
        "id": "UvUYna1I6PSC",
        "colab_type": "text"
      },
      "cell_type": "markdown",
      "source": [
        "### Testing Model with best accuracy by removing Dropout layers between convolution layers.\n",
        "  We got best accuracy using 5 depth convolutional layers each having a convolutional kernel size as (3X3). So we are going to perform the same model without Dropout to test how it will change with it."
      ]
    },
    {
      "metadata": {
        "id": "z0JeiV8F66XQ",
        "colab_type": "code",
        "colab": {
          "base_uri": "https://localhost:8080/",
          "height": 51
        },
        "outputId": "d9481bd8-8c6c-449e-90ff-c9cdd1daba26"
      },
      "cell_type": "code",
      "source": [
        "model = Sequential()\n",
        "model.add(Conv2D(32, kernel_size=(3, 3),\n",
        "                 activation='relu',padding='same',strides=(1,1),\n",
        "                 input_shape=input_shape))\n",
        "\n",
        "model.add(Conv2D(64, (3, 3), padding='same',strides=(1,1),activation='relu'))\n",
        "model.add(MaxPooling2D(pool_size=(2, 2),padding='same',strides=(2,2)))\n",
        "#model.add(Dropout(0.25))\n",
        "\n",
        "model.add(Conv2D(128, (3, 3), padding='same',strides=(1,1),activation='relu'))\n",
        "model.add(MaxPooling2D(pool_size=(2, 2),padding='same',strides=(2,2)))\n",
        "#model.add(Dropout(0.25))\n",
        "\n",
        "model.add(Conv2D(183, (3, 3), padding='same',strides=(1,1),activation='relu'))\n",
        "model.add(MaxPooling2D(pool_size=(2, 2),padding='same',strides=(2,2)))\n",
        "#model.add(Dropout(0.25))\n",
        "\n",
        "model.add(Conv2D(256, (3, 3), padding='same',strides=(1,1),activation='relu'))\n",
        "model.add(MaxPooling2D(pool_size=(2, 2),padding='same',strides=(2,2)))\n",
        "#model.add(Dropout(0.25))\n",
        "\n",
        "model.add(Flatten())\n",
        "model.add(Dense(512, activation='relu'))\n",
        "#model.add(Dropout(0.5))\n",
        "model.add(Dense(num_classes, activation='softmax'))\n",
        "\n",
        "model.compile(loss=keras.losses.categorical_crossentropy,optimizer='adam',metrics=['accuracy'])\n",
        "\n",
        "history=model.fit(x_train, y_train,batch_size=batch_size,epochs=epochs,verbose=0,validation_data=(x_test, y_test))\n",
        "score = model.evaluate(x_test, y_test, verbose=0)\n",
        "print('Test loss:', score[0])\n",
        "print('Test accuracy:', score[1])"
      ],
      "execution_count": 27,
      "outputs": [
        {
          "output_type": "stream",
          "text": [
            "Test loss: 0.029016700168150056\n",
            "Test accuracy: 0.9925\n"
          ],
          "name": "stdout"
        }
      ]
    },
    {
      "metadata": {
        "id": "2PgHjtBF7an0",
        "colab_type": "text"
      },
      "cell_type": "markdown",
      "source": [
        "#Conclusion\n",
        "\n",
        "1. We Developed models with **convolutional layers depth as [ 3 ,  5 ,  7 ] **each model is tested with **different kernel sizes [ (2, 2) , (3, 3) , (5, 5)].**\n",
        "\n",
        "2. All these combinations are executed with both **Max Pooling and Dropout layers** added after each convolutional layer in the model.\n",
        "3. Out of these 9 combinations, we got highest accuracy with **5 convolutional layers** depth and **kernel size of (3, 3)** and the **accuracy is ==> 99.54%** with a **loss ==> 0.01859290194.**\n",
        "\n",
        "4. We also executed this top accurated model  **without Dropout** layer and found a decrease in Accuracy of the model by 0.0029%, Though it is a small increase but would reflect a large impact for large datasets.\n",
        "\n"
      ]
    }
  ]
}